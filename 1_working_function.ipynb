{
 "cells": [
  {
   "cell_type": "markdown",
   "metadata": {},
   "source": [
    "1 working function \n",
    "\n",
    "objective:\n",
    "-create 1 working function "
   ]
  },
  {
   "cell_type": "code",
   "execution_count": 51,
   "metadata": {
    "collapsed": false
   },
   "outputs": [],
   "source": [
    "\n",
    "Canis_Occurances = {} # makes a dictionary of occurances\n",
    "ff = open(\"formatted-Canis_Occurances.csv\", \"r\",) #opens up file that contains the .csv\n",
    "ss = ff.readlines()[19:] #skips the first 19 lines full of headers\n",
    "for line in ss: #for/in loop\n",
    "    sp = line.split(\",\")[9] #take only the 9th column  \n",
    "    Canis_Occurances[sp] = fam # the Canis species will have species but = family\n",
    "ff.close() #close the function \n"
   ]
  },
  {
   "cell_type": "code",
   "execution_count": 52,
   "metadata": {
    "collapsed": false
   },
   "outputs": [
    {
     "name": "stdout",
     "output_type": "stream",
     "text": [
      "{'\"Canis edwardii\"': '\"species\"', '\"Canis rufus\"': '\"species\"', '\"Canis lepophagus\"': '\"species\"', '\"Canis lupus\"': '\"species\"', '\"Canis armbrusteri\"': '\"species\"', '\"Canis thooides\"': '\"species\"', '\"Canis cedazoensis\"': '\"species\"', '\"Canis dirus\"': '\"species\"', '\"Canis latrans\"': '\"species\"', '\"Canis ferox\"': '\"species\"'}\n"
     ]
    }
   ],
   "source": [
    "print(Canis_Occurances)\n",
    " #test round. "
   ]
  },
  {
   "cell_type": "code",
   "execution_count": 53,
   "metadata": {
    "collapsed": false
   },
   "outputs": [
    {
     "name": "stdout",
     "output_type": "stream",
     "text": [
      "['\"Canis ferox\"', '\"Canis lepophagus\"', '\"Canis ferox\"', '\"Canis ferox\"', '\"Canis ferox\"', '\"Canis edwardii\"', '\"Canis armbrusteri\"', '\"Canis latrans\"', '\"Canis latrans\"', '\"Canis thooides\"', '\"Canis latrans\"', '\"Canis latrans\"', '\"Canis lepophagus\"', '\"Canis lepophagus\"', '\"Canis lepophagus\"', '\"Canis lepophagus\"', '\"Canis lepophagus\"', '\"Canis lepophagus\"', '\"Canis lepophagus\"', '\"Canis lepophagus\"', '\"Canis lepophagus\"', '\"Canis ferox\"', '\"Canis ferox\"', '\"Canis lepophagus\"', '\"Canis lepophagus\"', '\"Canis lepophagus\"', '\"Canis ferox\"', '\"Canis lepophagus\"', '\"Canis lepophagus\"', '\"Canis lepophagus\"', '\"Canis ferox\"', '\"Canis lepophagus\"', '\"Canis ferox\"', '\"Canis latrans\"', '\"Canis lepophagus\"', '\"Canis lepophagus\"', '\"Canis lepophagus\"', '\"Canis ferox\"', '\"Canis lepophagus\"', '\"Canis lepophagus\"', '\"Canis ferox\"', '\"Canis ferox\"', '\"Canis lepophagus\"', '\"Canis lepophagus\"', '\"Canis lepophagus\"', '\"Canis latrans\"', '\"Canis lepophagus\"', '\"Canis lepophagus\"', '\"Canis lepophagus\"', '\"Canis lepophagus\"', '\"Canis lepophagus\"', '\"Canis lepophagus\"', '\"Canis lepophagus\"', '\"Canis edwardii\"', '\"Canis latrans\"', '\"Canis rufus\"', '\"Canis latrans\"', '\"Canis latrans\"', '\"Canis rufus\"', '\"Canis rufus\"', '\"Canis latrans\"', '\"Canis latrans\"', '\"Canis latrans\"', '\"Canis latrans\"', '\"Canis latrans\"', '\"Canis latrans\"', '\"Canis latrans\"', '\"Canis latrans\"', '\"Canis edwardii\"', '\"Canis latrans\"', '\"Canis edwardii\"', '\"Canis latrans\"', '\"Canis dirus\"', '\"Canis latrans\"', '\"Canis latrans\"', '\"Canis latrans\"', '\"Canis dirus\"', '\"Canis latrans\"', '\"Canis latrans\"', '\"Canis latrans\"', '\"Canis cedazoensis\"', '\"Canis dirus\"', '\"Canis dirus\"', '\"Canis latrans\"', '\"Canis armbrusteri\"', '\"Canis latrans\"', '\"Canis armbrusteri\"', '\"Canis latrans\"', '\"Canis dirus\"', '\"Canis latrans\"', '\"Canis lupus\"', '\"Canis edwardii\"', '\"Canis edwardii\"', '\"Canis armbrusteri\"', '\"Canis latrans\"', '\"Canis edwardii\"', '\"Canis edwardii\"', '\"Canis edwardii\"', '\"Canis lepophagus\"', '\"Canis latrans\"']\n"
     ]
    }
   ],
   "source": [
    "def make_species_list(file): #define the list\n",
    "    species_list = [] # making a list \n",
    "    for line in file: # for/in loop \n",
    "        name = line.split(\",\")[9] #take out from the 9th column \n",
    "        species_list.append(name) #append the names of the list \n",
    "    print(species_list) #print the list \n",
    "        \n",
    "canis_species_list = make_species_list(ss) # use the def to be supported by the arg. and name this the canis list\n",
    "\n",
    "\n",
    "#now this list contains all the genus/species of the 'Canis' genus "
   ]
  },
  {
   "cell_type": "code",
   "execution_count": null,
   "metadata": {
    "collapsed": true
   },
   "outputs": [],
   "source": []
  },
  {
   "cell_type": "code",
   "execution_count": null,
   "metadata": {
    "collapsed": true
   },
   "outputs": [],
   "source": []
  }
 ],
 "metadata": {
  "anaconda-cloud": {},
  "kernelspec": {
   "display_name": "Python [conda root]",
   "language": "python",
   "name": "conda-root-py"
  },
  "language_info": {
   "codemirror_mode": {
    "name": "ipython",
    "version": 3
   },
   "file_extension": ".py",
   "mimetype": "text/x-python",
   "name": "python",
   "nbconvert_exporter": "python",
   "pygments_lexer": "ipython3",
   "version": "3.5.2"
  }
 },
 "nbformat": 4,
 "nbformat_minor": 2
}
