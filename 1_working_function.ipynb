{
 "cells": [
  {
   "cell_type": "markdown",
   "metadata": {},
   "source": [
    "1 working function \n",
    "\n",
    "objective:\n",
    "-create 1 working function "
   ]
  },
  {
   "cell_type": "code",
   "execution_count": 59,
   "metadata": {
    "collapsed": false
   },
   "outputs": [],
   "source": [
    "Canis_Occurances = {}\n",
    "ff = open(\"formatted-Canis_Occurances.csv\", \"r\",)\n",
    "ss = ff.readlines()[19:]\n",
    "for line in ss:\n",
    "    sp = line.split(\",\")[9]\n",
    "    #fam = line.split(\",\")[10]\n",
    "    Canis_Occurances[sp] = fam\n",
    "ff.close()"
   ]
  },
  {
   "cell_type": "code",
   "execution_count": 60,
   "metadata": {
    "collapsed": false
   },
   "outputs": [
    {
     "name": "stdout",
     "output_type": "stream",
     "text": [
      "{'\"Canis ferox\"': '\"species\"', '\"Canis latrans\"': '\"species\"', '\"Canis lupus\"': '\"species\"', '\"Canis cedazoensis\"': '\"species\"', '\"Canis rufus\"': '\"species\"', '\"Canis edwardii\"': '\"species\"', '\"Canis armbrusteri\"': '\"species\"', '\"Canis lepophagus\"': '\"species\"', '\"Canis thooides\"': '\"species\"', '\"Canis dirus\"': '\"species\"'}\n"
     ]
    }
   ],
   "source": [
    "print(Canis_Occurances)"
   ]
  },
  {
   "cell_type": "code",
   "execution_count": null,
   "metadata": {
    "collapsed": true
   },
   "outputs": [],
   "source": []
  }
 ],
 "metadata": {
  "anaconda-cloud": {},
  "kernelspec": {
   "display_name": "Python [conda root]",
   "language": "python",
   "name": "conda-root-py"
  },
  "language_info": {
   "codemirror_mode": {
    "name": "ipython",
    "version": 3
   },
   "file_extension": ".py",
   "mimetype": "text/x-python",
   "name": "python",
   "nbconvert_exporter": "python",
   "pygments_lexer": "ipython3",
   "version": "3.5.2"
  }
 },
 "nbformat": 4,
 "nbformat_minor": 2
}
