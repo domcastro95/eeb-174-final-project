{
 "cells": [
  {
   "cell_type": "markdown",
   "metadata": {},
   "source": [
    "commit with data I/O and 2+ functions due friday, Week 7: Feb 24 "
   ]
  },
  {
   "cell_type": "code",
   "execution_count": 32,
   "metadata": {
    "collapsed": true
   },
   "outputs": [],
   "source": [
    "def makeEarlyIntervalList(filename): # defines and opens canis data file \n",
    "    EarlyIntervalList = [] #defines as a list \n",
    "    earlyinterval_object = open(filename,\"r\") #opens file \n",
    "    earlyinterval_list = earlyinterval_object.readlines()[19:] #reads file and save as list\n",
    "    for line in earlyinterval_list:\n",
    "        earlyinterval = line.split(\",\")[12]\n",
    "        # stick intervals into EarlyIntervalList\n",
    "        EarlyIntervalList.append(earlyinterval) #file time zone into late interval list \n",
    "    return EarlyIntervalList # run function "
   ]
  },
  {
   "cell_type": "code",
   "execution_count": 33,
   "metadata": {
    "collapsed": false,
    "scrolled": true
   },
   "outputs": [
    {
     "data": {
      "text/plain": [
       "['\"Late Hemphillian\"',\n",
       " '\"Late Hemphillian\"',\n",
       " '\"Late Hemphillian\"',\n",
       " '\"Hemphillian\"',\n",
       " '\"Late Hemphillian\"',\n",
       " '\"Blancan\"',\n",
       " '\"Blancan\"',\n",
       " '\"Blancan\"',\n",
       " '\"Blancan\"',\n",
       " '\"Blancan\"',\n",
       " '\"Blancan\"',\n",
       " '\"Blancan\"',\n",
       " '\"Blancan\"',\n",
       " '\"Blancan\"',\n",
       " '\"Blancan\"',\n",
       " '\"Blancan\"',\n",
       " '\"Blancan\"',\n",
       " '\"Blancan\"',\n",
       " '\"Blancan\"',\n",
       " '\"Blancan\"',\n",
       " '\"Blancan\"',\n",
       " '\"Blancan\"',\n",
       " '\"Blancan\"',\n",
       " '\"Blancan\"',\n",
       " '\"Blancan\"',\n",
       " '\"Blancan\"',\n",
       " '\"Blancan\"',\n",
       " '\"Blancan\"',\n",
       " '\"Blancan\"',\n",
       " '\"Blancan\"',\n",
       " '\"Blancan\"',\n",
       " '\"Blancan\"',\n",
       " '\"Blancan\"',\n",
       " '\"Blancan\"',\n",
       " '\"Blancan\"',\n",
       " '\"Blancan\"',\n",
       " '\"Blancan\"',\n",
       " '\"Blancan\"',\n",
       " '\"Blancan\"',\n",
       " '\"Blancan\"',\n",
       " '\"Blancan\"',\n",
       " '\"Blancan\"',\n",
       " '\"Blancan\"',\n",
       " '\"Blancan\"',\n",
       " '\"Blancan\"',\n",
       " '\"Blancan\"',\n",
       " '\"Blancan\"',\n",
       " '\"Blancan\"',\n",
       " '\"Blancan\"',\n",
       " '\"Blancan\"',\n",
       " '\"Blancan\"',\n",
       " '\"Blancan\"',\n",
       " '\"Blancan\"',\n",
       " '\"Blancan\"',\n",
       " '\"Blancan\"',\n",
       " '\"Blancan\"',\n",
       " '\"Blancan\"',\n",
       " '\"Blancan\"',\n",
       " '\"Blancan\"',\n",
       " '\"Blancan\"',\n",
       " '\"Blancan\"',\n",
       " '\"Irvingtonian\"',\n",
       " '\"Irvingtonian\"',\n",
       " '\"Irvingtonian\"',\n",
       " '\"Irvingtonian\"',\n",
       " '\"Irvingtonian\"',\n",
       " '\"Irvingtonian\"',\n",
       " '\"Irvingtonian\"',\n",
       " '\"Irvingtonian\"',\n",
       " '\"Irvingtonian\"',\n",
       " '\"Irvingtonian\"',\n",
       " '\"Irvingtonian\"',\n",
       " '\"Irvingtonian\"',\n",
       " '\"Irvingtonian\"',\n",
       " '\"Irvingtonian\"',\n",
       " '\"Irvingtonian\"',\n",
       " '\"Irvingtonian\"',\n",
       " '\"Irvingtonian\"',\n",
       " '\"Irvingtonian\"',\n",
       " '\"Irvingtonian\"',\n",
       " '\"Irvingtonian\"',\n",
       " '\"Irvingtonian\"',\n",
       " '\"Irvingtonian\"',\n",
       " '\"Irvingtonian\"',\n",
       " '\"Irvingtonian\"',\n",
       " '\"Irvingtonian\"',\n",
       " '\"Irvingtonian\"',\n",
       " '\"Irvingtonian\"',\n",
       " '\"Irvingtonian\"',\n",
       " '\"Irvingtonian\"',\n",
       " '\"Irvingtonian\"',\n",
       " '\"Irvingtonian\"',\n",
       " '\"Irvingtonian\"',\n",
       " '\"Irvingtonian\"',\n",
       " '\"Irvingtonian\"',\n",
       " '\"Blancan\"',\n",
       " '\"Irvingtonian\"',\n",
       " '\"Irvingtonian\"',\n",
       " '\"Blancan\"',\n",
       " '\"Irvingtonian\"']"
      ]
     },
     "execution_count": 33,
     "metadata": {},
     "output_type": "execute_result"
    }
   ],
   "source": [
    "makeEarlyIntervalList(\"formatted-Canis_Occurances.csv\")"
   ]
  },
  {
   "cell_type": "code",
   "execution_count": null,
   "metadata": {
    "collapsed": true
   },
   "outputs": [],
   "source": [
    "Insert figure of makeEarlyIntervalsList (insert figure)"
   ]
  },
  {
   "cell_type": "code",
   "execution_count": 48,
   "metadata": {
    "collapsed": true
   },
   "outputs": [],
   "source": [
    "def makeMaxMinList(filename): # defines and opens canis data file \n",
    "    MaxMinList = [] #defines as a list \n",
    "    maxmin_object = open(filename,\"r\") #opens file \n",
    "    maxmin_list = maxmin_object.readlines()[19:] #reads file and save as list\n",
    "    for line in maxmin_list:\n",
    "        maxmin = line.split(\",\")[14:16]\n",
    "        # stick periods into \n",
    "        MaxMinList.append(maxmin) #file time zone into late interval list \n",
    "    return MaxMinList # run function "
   ]
  },
  {
   "cell_type": "code",
   "execution_count": 49,
   "metadata": {
    "collapsed": false,
    "scrolled": true
   },
   "outputs": [
    {
     "data": {
      "text/plain": [
       "[['\"10.3\"', '\"4.9\"'],\n",
       " ['\"10.3\"', '\"4.9\"'],\n",
       " ['\"10.3\"', '\"4.9\"'],\n",
       " ['\"10.3\"', '\"4.9\"'],\n",
       " ['\"10.3\"', '\"4.9\"'],\n",
       " ['\"4.9\"', '\"0.3\"'],\n",
       " ['\"4.9\"', '\"0.3\"'],\n",
       " ['\"4.9\"', '\"0.3\"'],\n",
       " ['\"4.9\"', '\"1.8\"'],\n",
       " ['\"4.9\"', '\"1.8\"'],\n",
       " ['\"4.9\"', '\"1.8\"'],\n",
       " ['\"4.9\"', '\"1.8\"'],\n",
       " ['\"4.9\"', '\"1.8\"'],\n",
       " ['\"4.9\"', '\"1.8\"'],\n",
       " ['\"4.9\"', '\"1.8\"'],\n",
       " ['\"4.9\"', '\"1.8\"'],\n",
       " ['\"4.9\"', '\"1.8\"'],\n",
       " ['\"4.9\"', '\"1.8\"'],\n",
       " ['\"4.9\"', '\"1.8\"'],\n",
       " ['\"4.9\"', '\"1.8\"'],\n",
       " ['\"4.9\"', '\"1.8\"'],\n",
       " ['\"4.9\"', '\"1.8\"'],\n",
       " ['\"4.9\"', '\"1.8\"'],\n",
       " ['\"4.9\"', '\"1.8\"'],\n",
       " ['\"4.9\"', '\"1.8\"'],\n",
       " ['\"4.9\"', '\"1.8\"'],\n",
       " ['\"4.9\"', '\"1.8\"'],\n",
       " ['\"4.9\"', '\"1.8\"'],\n",
       " ['\"4.9\"', '\"1.8\"'],\n",
       " ['\"4.9\"', '\"1.8\"'],\n",
       " ['\"4.9\"', '\"1.8\"'],\n",
       " ['\"4.9\"', '\"1.8\"'],\n",
       " ['\"4.9\"', '\"1.8\"'],\n",
       " ['\"4.9\"', '\"1.8\"'],\n",
       " ['\"4.9\"', '\"1.8\"'],\n",
       " ['\"4.9\"', '\"1.8\"'],\n",
       " ['\"4.9\"', '\"1.8\"'],\n",
       " ['\"4.9\"', '\"1.8\"'],\n",
       " ['\"4.9\"', '\"1.8\"'],\n",
       " ['\"4.9\"', '\"1.8\"'],\n",
       " ['\"4.9\"', '\"1.8\"'],\n",
       " ['\"4.9\"', '\"1.8\"'],\n",
       " ['\"4.9\"', '\"1.8\"'],\n",
       " ['\"4.9\"', '\"1.8\"'],\n",
       " ['\"4.9\"', '\"1.8\"'],\n",
       " ['\"4.9\"', '\"1.8\"'],\n",
       " ['\"4.9\"', '\"1.8\"'],\n",
       " ['\"4.9\"', '\"1.8\"'],\n",
       " ['\"4.9\"', '\"1.8\"'],\n",
       " ['\"4.9\"', '\"1.8\"'],\n",
       " ['\"4.9\"', '\"1.8\"'],\n",
       " ['\"4.9\"', '\"1.8\"'],\n",
       " ['\"4.9\"', '\"1.8\"'],\n",
       " ['\"4.9\"', '\"1.8\"'],\n",
       " ['\"4.9\"', '\"1.8\"'],\n",
       " ['\"4.9\"', '\"1.8\"'],\n",
       " ['\"4.9\"', '\"1.8\"'],\n",
       " ['\"4.9\"', '\"1.8\"'],\n",
       " ['\"4.9\"', '\"1.8\"'],\n",
       " ['\"4.9\"', '\"1.8\"'],\n",
       " ['\"4.9\"', '\"1.8\"'],\n",
       " ['\"1.8\"', '\"0.3\"'],\n",
       " ['\"1.8\"', '\"0.3\"'],\n",
       " ['\"1.8\"', '\"0.3\"'],\n",
       " ['\"1.8\"', '\"0.3\"'],\n",
       " ['\"1.8\"', '\"0.3\"'],\n",
       " ['\"1.8\"', '\"0.3\"'],\n",
       " ['\"1.8\"', '\"0.3\"'],\n",
       " ['\"1.8\"', '\"0.3\"'],\n",
       " ['\"1.8\"', '\"0.3\"'],\n",
       " ['\"1.8\"', '\"0.3\"'],\n",
       " ['\"1.8\"', '\"0.3\"'],\n",
       " ['\"1.8\"', '\"0.3\"'],\n",
       " ['\"1.8\"', '\"0.3\"'],\n",
       " ['\"1.8\"', '\"0.3\"'],\n",
       " ['\"1.8\"', '\"0.3\"'],\n",
       " ['\"1.8\"', '\"0.3\"'],\n",
       " ['\"1.8\"', '\"0.3\"'],\n",
       " ['\"1.8\"', '\"0.3\"'],\n",
       " ['\"1.8\"', '\"0.3\"'],\n",
       " ['\"1.8\"', '\"0.3\"'],\n",
       " ['\"1.8\"', '\"0.3\"'],\n",
       " ['\"1.8\"', '\"0.3\"'],\n",
       " ['\"1.8\"', '\"0.3\"'],\n",
       " ['\"1.8\"', '\"0.3\"'],\n",
       " ['\"1.8\"', '\"0.3\"'],\n",
       " ['\"1.8\"', '\"0.3\"'],\n",
       " ['\"1.8\"', '\"0.3\"'],\n",
       " ['\"1.8\"', '\"0.3\"'],\n",
       " ['\"1.8\"', '\"0.3\"'],\n",
       " ['\"1.8\"', '\"0.3\"'],\n",
       " ['\"1.8\"', '\"0.3\"'],\n",
       " ['\"1.8\"', '\"0.3\"'],\n",
       " ['\"1.8\"', '\"0.3\"'],\n",
       " ['\"1.8\"', '\"0.3\"'],\n",
       " ['\"4.9\"', '\"1.8\"'],\n",
       " ['\"1.8\"', '\"0.3\"'],\n",
       " ['\"1.8\"', '\"0.3\"'],\n",
       " ['\"4.9\"', '\"1.8\"'],\n",
       " ['\"1.8\"', '\"0.012\"']]"
      ]
     },
     "execution_count": 49,
     "metadata": {},
     "output_type": "execute_result"
    }
   ],
   "source": [
    "makeMaxMinList(\"formatted-Canis_Occurances.csv\")"
   ]
  },
  {
   "cell_type": "markdown",
   "metadata": {},
   "source": [
    "#Commit with data I/O\n",
    "\n",
    "I am sure these are the inputs of functions? and outputs of functions??\n",
    "Not sure what I/O is referring too but the data above "
   ]
  },
  {
   "cell_type": "markdown",
   "metadata": {
    "collapsed": true
   },
   "source": [
    "Markdown outline of the complete project:\n",
    "-include pseudocode for portions you need to write\n",
    "-placeholders for figures in ipython or Rmarkdown\n",
    "-any code that you do include should be well­commented\n",
    "-include references in the intro about evolutionary history or your research topic\n",
    "\n",
    "My research topic will be based on the 'Canis' Genus. WE are going to explore the different species of 'Canis' and the fossil hisotry (as in which time period each 'Canis' came from). Within this data, there will be accental information about the max and min of the species sizes to show a trend of how typical these 'Canis' sizes are in related to each other. This project will compare and contrast the fossil history of each 'Canis'. There will be a chart that shows how many 'Canis' species were there in each time period from 'late hemphillian' to 'Irvingtonian'. These time periods will reference the early interval when these 'Canis' were found fossilized. \n",
    "\n",
    "Some missing pesudocodes are:\n",
    "-graph \n",
    "\n"
   ]
  }
 ],
 "metadata": {
  "anaconda-cloud": {},
  "kernelspec": {
   "display_name": "Python [conda root]",
   "language": "python",
   "name": "conda-root-py"
  },
  "language_info": {
   "codemirror_mode": {
    "name": "ipython",
    "version": 3
   },
   "file_extension": ".py",
   "mimetype": "text/x-python",
   "name": "python",
   "nbconvert_exporter": "python",
   "pygments_lexer": "ipython3",
   "version": "3.5.2"
  }
 },
 "nbformat": 4,
 "nbformat_minor": 2
}
